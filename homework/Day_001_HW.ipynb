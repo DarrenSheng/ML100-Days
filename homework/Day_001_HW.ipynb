{
 "cells": [
  {
   "cell_type": "markdown",
   "metadata": {},
   "source": [
    "# 作業1:"
   ]
  },
  {
   "cell_type": "markdown",
   "metadata": {},
   "source": [
    "# Kaggle : Students Performance in Exams\n",
    "\n",
    "## https://www.kaggle.com/spscientist/students-performance-in-exams/home"
   ]
  },
  {
   "cell_type": "markdown",
   "metadata": {},
   "source": [
    "## Q1.你選的這組資料為何重要"
   ]
  },
  {
   "cell_type": "markdown",
   "metadata": {},
   "source": [
    "#### 在孩童或青年的求學過程中，其實最頭疼的是父母，但往往在父母以前的教育程度等等背景下，就已經存在很大的機率會影響下一代的成長過程及未來發展，這樣的分析反而有辦法幫助到條件比較劣勢的父母，讓他們能夠清晰地透過數據分析的結果，意識到他們的狀況對下一代的影響會是存在優勢或是劣勢，而進一步的，去讓父母意識到如何調整教育下一代的方式!\n",
    "\n"
   ]
  },
  {
   "cell_type": "markdown",
   "metadata": {},
   "source": [
    "## Q2.資料從何而來 (tips: 譬如提供者是誰、以什麼方式蒐集)"
   ]
  },
  {
   "cell_type": "markdown",
   "metadata": {},
   "source": [
    "## 資料來源 : http://roycekimmons.com/tools/generated_data/exams"
   ]
  },
  {
   "cell_type": "markdown",
   "metadata": {},
   "source": [
    "## Q3.蒐集而來的資料型態為何"
   ]
  },
  {
   "cell_type": "code",
   "execution_count": 1,
   "metadata": {},
   "outputs": [],
   "source": [
    "import pandas as pd\n",
    "df = pd.read_csv('StudentsPerformance.csv')"
   ]
  },
  {
   "cell_type": "code",
   "execution_count": 2,
   "metadata": {},
   "outputs": [
    {
     "name": "stdout",
     "output_type": "stream",
     "text": [
      "gender <class 'str'>\n",
      "race/ethnicity <class 'str'>\n",
      "parental level of education <class 'str'>\n",
      "lunch <class 'str'>\n",
      "test preparation course <class 'str'>\n",
      "math score <class 'numpy.int64'>\n",
      "reading score <class 'numpy.int64'>\n",
      "writing score <class 'numpy.int64'>\n"
     ]
    }
   ],
   "source": [
    "for ColumnNname in list(df.columns):\n",
    "    print(ColumnNname,type(df[ColumnNname][0]))"
   ]
  },
  {
   "cell_type": "markdown",
   "metadata": {},
   "source": [
    "### 1.先天不可抗因素 : \n",
    "### 性別 : gender\n",
    "### 種族 : race/ethnicity\n",
    "### 2.後天可抗因素 : \n",
    "### 家庭 : parental level of education,lunch\n",
    "### 學生努力程度 : test preparation"
   ]
  },
  {
   "cell_type": "markdown",
   "metadata": {},
   "source": [
    "## Q4.這組資料想解決的問題如何評估"
   ]
  },
  {
   "cell_type": "markdown",
   "metadata": {},
   "source": [
    "### 1.需要預測的項目為 : math score , reading score , writing score\n",
    "### 2.可以參考的變數因子 : gender性別 , race/ethnicity族群 , parental level of education 父母教育程度 , lunch 午餐 , test preparation考試準備"
   ]
  },
  {
   "cell_type": "markdown",
   "metadata": {},
   "source": [
    "### 3.問題評估:\n",
    "### a.何種組合的變數因子可以改善個別科目的分數?\n",
    "### b.最主要的變數是甚麼會主要影響科目的分數?\n",
    "### c.個個變數因子對科目的分數的表現影響分布差異?"
   ]
  },
  {
   "cell_type": "markdown",
   "metadata": {},
   "source": []
  },
  {
   "cell_type": "markdown",
   "metadata": {},
   "source": [
    "# 作業2:"
   ]
  },
  {
   "cell_type": "markdown",
   "metadata": {},
   "source": [
    "## Q1. 核心問題為何 (tips：如何定義 「提升業績 & 你的假設」)"
   ]
  },
  {
   "cell_type": "markdown",
   "metadata": {},
   "source": [
    "## 假設:\n",
    "### 如何提升顧客使用的黏著度(拉高營收)\n"
   ]
  },
  {
   "cell_type": "markdown",
   "metadata": {},
   "source": [
    "## Q2. 資料從何而來 (tips：哪些資料可能會對你想問的問題產生影響 & 資料如何蒐集)"
   ]
  },
  {
   "cell_type": "markdown",
   "metadata": {},
   "source": [
    "### 1.所有數據均需透過APP整合系統回饋"
   ]
  },
  {
   "cell_type": "markdown",
   "metadata": {},
   "source": [
    "## Q3. 蒐集而來的資料型態為何"
   ]
  },
  {
   "cell_type": "markdown",
   "metadata": {},
   "source": [
    "### 提升顧客回顧率 :\n",
    "### 1.客戶ID\n",
    "### 2.上車地點\n",
    "### 3.下車地點\n",
    "### 4.車資\n",
    "### 5.顧客等待時間\n",
    "### 6.顧客乘車時間\n",
    "### 7.車齡\n",
    "### 8.車型\n",
    "### 9.顧客對司機評分\n",
    "### 10.顧客加入APP時間\n"
   ]
  },
  {
   "cell_type": "markdown",
   "metadata": {},
   "source": [
    "# Q4. 你要回答的問題，其如何評估 (tips：你的假設如何驗證)"
   ]
  },
  {
   "cell_type": "raw",
   "metadata": {},
   "source": [
    "1.客戶ID & 顧客加入APP時間 : 判斷客戶回顧率參數\n",
    "2.上車地點、下車地點、車資 : 判斷消費金額\n",
    "3.上車地點、下車地點、顧客乘車時間 : 判斷搭乘時間\n",
    "------------------------------------------------------------\n",
    "影響顧客回率因素分類:\n",
    "品質:\n",
    "a.顧客等待時間與顧客回顧率關係\n",
    "b.車齡與顧客回顧率關係\n",
    "c.車型與顧客回顧率關係\n",
    "d.顧客對司機評分與顧客回顧率關係\n",
    "消費金額容忍度:\n",
    "e.車資與顧客回顧率關係\n",
    "綜合評估:\n",
    "1.找出a,b,c,d,e影響顧客回顧率的因子的比重排序\n",
    "2.透過排列組合ex.車資與車齡與顧客回顧率關係\n",
    "3.透過分析可以理解消費者習性，同時可以使車隊經營者知道首改善任務為何"
   ]
  },
  {
   "cell_type": "markdown",
   "metadata": {},
   "source": [
    "# 作業3:"
   ]
  },
  {
   "cell_type": "code",
   "execution_count": 3,
   "metadata": {},
   "outputs": [
    {
     "data": {
      "text/plain": [
       "<Figure size 640x480 with 1 Axes>"
      ]
     },
     "metadata": {},
     "output_type": "display_data"
    }
   ],
   "source": [
    "import numpy as np\n",
    "import matplotlib.pyplot as plt\n",
    "w = 3\n",
    "b = 0.5\n",
    "\n",
    "x_lin = np.linspace(0, 100, 101)\n",
    "\n",
    "y = (x_lin + np.random.randn(101) * 5) * w + b\n",
    "\n",
    "plt.plot(x_lin, y, 'b.', label = 'data points')\n",
    "plt.title(\"Assume we have data points\")\n",
    "plt.legend(loc = 2)\n",
    "plt.show()"
   ]
  },
  {
   "cell_type": "code",
   "execution_count": 4,
   "metadata": {},
   "outputs": [
    {
     "data": {
      "image/png": "[encoded data removed]",
      "text/plain": [
       "<Figure size 432x288 with 1 Axes>"
      ]
     },
     "metadata": {
      "needs_background": "light"
     },
     "output_type": "display_data"
    }
   ],
   "source": [
    "y_hat = x_lin * w + b\n",
    "plt.plot(x_lin, y, 'b.', label = 'data')\n",
    "plt.plot(x_lin, y_hat, 'r-', label = 'prediction')\n",
    "plt.title(\"Assume we have data points (And the prediction)\")\n",
    "plt.legend(loc = 2)\n",
    "plt.show()"
   ]
  },
  {
   "cell_type": "code",
   "execution_count": 5,
   "metadata": {},
   "outputs": [
    {
     "name": "stdout",
     "output_type": "stream",
     "text": [
      "The Mean squared error is 206.866\n",
      "The Mean absolute error is 10.719\n"
     ]
    }
   ],
   "source": [
    "def mean_absolute_error(y, yp):\n",
    "    \"\"\"\n",
    "    計算 MAE\n",
    "    Args:\n",
    "        - y: 實際值\n",
    "        - yp: 預測值\n",
    "    Return:\n",
    "        - mae: MAE\n",
    "    \"\"\"\n",
    "    mae = MAE = sum(abs(y - yp)) / len(y)\n",
    "    return mae\n",
    "\n",
    "def mean_squared_error(y, yp):\n",
    "    \"\"\"\n",
    "    計算 MSE\n",
    "    Args:\n",
    "        - y: 實際值\n",
    "        - yp: 預測值\n",
    "    Return:\n",
    "        - mse: MSE\n",
    "    \"\"\"\n",
    "    mse = sum((y - yp)**2) / len(y)\n",
    "    return mse\n",
    "\n",
    "MSE = mean_squared_error(y, y_hat)\n",
    "MAE = mean_absolute_error(y, y_hat)\n",
    "print(\"The Mean squared error is %.3f\" % (MSE))\n",
    "print(\"The Mean absolute error is %.3f\" % (MAE))"
   ]
  }
 ],
 "metadata": {
  "kernelspec": {
   "display_name": "Python 3",
   "language": "python",
   "name": "python3"
  },
  "language_info": {
   "codemirror_mode": {
    "name": "ipython",
    "version": 3
   },
   "file_extension": ".py",
   "mimetype": "text/x-python",
   "name": "python",
   "nbconvert_exporter": "python",
   "pygments_lexer": "ipython3",
   "version": "3.7.0"
  }
 },
 "nbformat": 4,
 "nbformat_minor": 2
}
